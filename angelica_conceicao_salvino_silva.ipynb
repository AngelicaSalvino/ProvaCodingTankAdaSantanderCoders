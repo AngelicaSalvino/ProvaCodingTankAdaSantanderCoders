{
 "cells": [
  {
   "cell_type": "markdown",
   "metadata": {},
   "source": [
    "QUESTÃO 1\n",
    "\n",
    "Resposta:\n",
    "\n",
    "a- Apenas a assertiva I é correta.\n",
    "\n",
    "Justificativa: Todo input sem tratamento prévio é registrado como uma variável do tipo string. Para que o python considere essa variável como número ou número real deveria ter sido tratado previamente informando que seria armazenado como int ou float."
   ]
  },
  {
   "cell_type": "markdown",
   "metadata": {},
   "source": [
    "QUESTÃO 2\n",
    "\n",
    "Resposta: \n",
    "\n",
    "d- Apenas as alternativas I, IV e V são válidas para inicializar uma lista em Python\n",
    "\n",
    "Justificativa: As sintaxes das outras alternativas estão incorretas, pois toda lista precisa do \"[]\" ou da sintaxe \"lis()\" as outras formas estão incorretas."
   ]
  },
  {
   "cell_type": "markdown",
   "metadata": {},
   "source": [
    "QUESTÃO 3\n",
    "\n",
    "Resposta:\n",
    "\n",
    "b- preco_total = quantidade * preco\n",
    "\n",
    "Justificativa: As outras alternativas estão incorretas, pois a sintaxe da alternativa \"a\" e \"b\" estão incorretas e a alternativa \"d\" é uma divisão. A única que possui o operador lógico correto é a alternativa b."
   ]
  },
  {
   "cell_type": "markdown",
   "metadata": {},
   "source": [
    "QUESTÃO 4\n",
    "\n",
    "Resposta:\n",
    "\n",
    "d- Saída 1, Saída 3 e Saída 5\n",
    "\n",
    "Justificativa: no primeiro if é verificado se a var_a é maior que a var_b o que é correto e este caso sendo correto é printado a \"saída 1\", no segundo if é verificado se a var_a é maior que a var_c e como esse caso é incorreto parte-se para a próxima condição que verifica se a var_a é maior que a var_b + var_c como esse caso é correto executa-se o print \"Saída 3\" e o print \"Saída 5\" não tem verificação é executado após todas as execuções condicionais."
   ]
  },
  {
   "cell_type": "code",
   "execution_count": 1,
   "metadata": {},
   "outputs": [
    {
     "name": "stdout",
     "output_type": "stream",
     "text": [
      "Saída 1\n",
      "Saída 3\n",
      "Saída 5\n"
     ]
    }
   ],
   "source": [
    "var_a = 4\n",
    "var_b = -6\n",
    "var_c = 8\n",
    "\n",
    "if var_a > var_b:\n",
    "    print('Saída 1')\n",
    "    \n",
    "if var_a > var_c:\n",
    "    print('Saída 2')\n",
    "elif var_a > var_b + var_c:\n",
    "    print('Saída 3')\n",
    "else:\n",
    "    print('Saída 4')\n",
    "    \n",
    "print('Saída 5')"
   ]
  },
  {
   "cell_type": "markdown",
   "metadata": {},
   "source": [
    "QUESTÃO 5 - CANCELADA"
   ]
  },
  {
   "cell_type": "markdown",
   "metadata": {},
   "source": [
    "QUESTÃO 6\n",
    "\n",
    "Resposta:\n",
    "\n",
    "b- 0\n",
    "\n",
    "Justificativa: A lista_2 foi criada como uma cópia de lista_1, ou seja as modificações em lista_2 não afetam lista_1. \n",
    "Quando o primeiro elemento de lista_2 é alterado, lista_1 permanece inalterada. Por isso, print(lista_1[0]) exibe 0.\n"
   ]
  },
  {
   "cell_type": "code",
   "execution_count": 2,
   "metadata": {},
   "outputs": [
    {
     "name": "stdout",
     "output_type": "stream",
     "text": [
      "0\n"
     ]
    }
   ],
   "source": [
    "lista_1 = [0, 1, 2, 3, 4]\n",
    "lista_2 = lista_1[:]\n",
    "lista_2[0] = 42\n",
    "print(lista_1[0])"
   ]
  },
  {
   "cell_type": "markdown",
   "metadata": {},
   "source": [
    "QUESTÃO 7\n",
    "\n",
    "Implementar um protótipo de uma solução, em Python, que faz o seguinte:\n",
    "\n",
    "- recebe, como entrada, o faturamento total de cada dia de uma semana (recebendo, portanto, 7 números);\n",
    "- exibe na tela, como saída, o faturamento diário médio (com base nas informações de faturamento da semana informada).\n",
    "\n",
    "Resposta:"
   ]
  },
  {
   "cell_type": "code",
   "execution_count": 4,
   "metadata": {},
   "outputs": [
    {
     "name": "stdout",
     "output_type": "stream",
     "text": [
      "O faturamento diário médio é: 3628.57\n"
     ]
    }
   ],
   "source": [
    "# Liista para armazenar os faturamentos diários\n",
    "faturamentos = []\n",
    "\n",
    "# Solicita que o usuário que insira o faturamento de cada dia da semana\n",
    "for i in range(7):\n",
    "    faturamento = float(input(f\"Digite o faturamento do dia {i+1}: \"))\n",
    "    faturamentos.append(faturamento)\n",
    "\n",
    "faturamento_medio = sum(faturamentos) / len(faturamentos) # Calculo do faturamento diário médio\n",
    "\n",
    "print(f\"O faturamento diário médio é: {faturamento_medio:.2f}\") # Exibe o faturamento diário médio\n"
   ]
  },
  {
   "cell_type": "markdown",
   "metadata": {},
   "source": [
    "QUESTÃO 8 \n",
    "\n",
    "Trabalhando na equipe de facilities de um banco, muitas vezes você faz compras internacionais, e acaba se deparando com diversas unidades de medida que caracterizam os produtos: em alguns países, medidas como onça fluida, libra e pés são muito comuns para medir volume, massa e comprimento, respectivamente.\n",
    "\n",
    "Neste contexto, escreva um programa que seja uma calculadora para converter as medidas mencionadas acima para o sistema internacional (litro, quilograma e metro). Os fatores de conversão são os seguintes:\n",
    "\n",
    "1 onça fluida = 0,0295735 litros 1 libra = 0,453592 quilogramas 1 pé = 0,3048 metros\n",
    "\n",
    "A calculadora deve ser capaz de realizar tanto a conversão para o sistema internacional quanto a conversão de volta para as unidades originais.\n",
    "\n",
    "Seu programa deve receber os inputs adequados do usuário para que seja completamente especificada a quantidade a ser convertida, e quais as unidades envolvidas na conversão desejada. Por fim, o programa deve exibir na tela tanto o valor na unidade original quanto na unidade convertida.\n",
    "\n",
    "Exemplo: se o usuário quiser converter 5 libras para quilogramas, a mensagem a ser exibida na tela como resultado do programa deve ser: \"5.0 libras é igual a 2.26796 quilogramas.\"."
   ]
  },
  {
   "cell_type": "code",
   "execution_count": 7,
   "metadata": {},
   "outputs": [
    {
     "name": "stdout",
     "output_type": "stream",
     "text": [
      "Bem-vindo à calculadora de conversões!\n",
      "1: Onça fluida para litros\n",
      "2: Litros para onça fluida\n",
      "3: Libra para quilograma\n",
      "4: Quilograma para libra\n",
      "5: Pé para metro\n",
      "6: Metro para pé\n",
      "7: Sair\n",
      "50.0 pé é igual a 15.24000 metro.\n",
      "1: Onça fluida para litros\n",
      "2: Litros para onça fluida\n",
      "3: Libra para quilograma\n",
      "4: Quilograma para libra\n",
      "5: Pé para metro\n",
      "6: Metro para pé\n",
      "7: Sair\n",
      "Encerrando a calculadora. Até logo!\n"
     ]
    }
   ],
   "source": [
    "# Definindo os calculos para conversão\n",
    "fatores_conversao = {\n",
    "    \"onça fluida para litros\": 0.0295735,\n",
    "    \"litros para onça fluida\": 1 / 0.0295735,\n",
    "    \"libra para quilograma\": 0.453592,\n",
    "    \"quilograma para libra\": 1 / 0.453592,\n",
    "    \"pé para metro\": 0.3048,\n",
    "    \"metro para pé\": 1 / 0.3048\n",
    "}\n",
    "\n",
    "#Inicializando a calculadora\n",
    "print(\"Bem-vindo à calculadora de conversões!\")\n",
    "\n",
    "# Opções de conversão - armazenadas em uma lista\n",
    "opcoes = [\n",
    "    \"onça fluida para litros\",\n",
    "    \"litros para onça fluida\",\n",
    "    \"libra para quilograma\",\n",
    "    \"quilograma para libra\",\n",
    "    \"pé para metro\",\n",
    "    \"metro para pé\",\n",
    "    \"sair\"\n",
    "]\n",
    "\n",
    "# Loop para receber as entradas do usuário\n",
    "for _ in range(len(opcoes)):\n",
    "    for i, opcao in enumerate(opcoes, 1):# Mostra as opções disponíveis\n",
    "        print(f\"{i}: {opcao.capitalize()}\")\n",
    "    \n",
    "    escolha = int(input(\"Digite o número da conversão desejada: \"))\n",
    "    \n",
    "    if escolha == 7:\n",
    "        print(\"Encerrando a calculadora. Até logo!\")\n",
    "        break\n",
    "    \n",
    "    # Validando se a entrada é válida\n",
    "    if 1 <= escolha <= 6:\n",
    "        conversao = opcoes[escolha - 1]\n",
    "        valor = float(input(f\"Digite a quantidade em {conversao.split()[0]}: \"))\n",
    "        convertido = valor * fatores_conversao[conversao]\n",
    "        unidade_original, unidade_convertida = conversao.split(\" para \")\n",
    "        print(f\"{valor:.1f} {unidade_original} é igual a {convertido:.5f} {unidade_convertida}.\")\n",
    "    else:\n",
    "        print(\"Escolha inválida. Por favor, tente novamente.\")\n"
   ]
  },
  {
   "cell_type": "markdown",
   "metadata": {},
   "source": [
    "QUESTÃO 9\n",
    "\n",
    "Um conceito muito comum no mercado financeiro é o de média móvel. A ideia da média móvel é suavizar uma série temporal de dados para identificar tendências ao longo do tempo. Em vez de considerar cada ponto de dados individualmente, a média móvel calcula a média de um conjunto de dados dentro de uma janela de tempo específica, deslocando essa janela ao longo da série temporal.\n",
    "\n",
    "Em outras palavras: ao calcular a média móvel com janela de tamanho n para uma lista de valores, cada elemento da lista original é substituído pela média dos n elementos dentro da janela que termina no próprio elemento -- ou seja, a soma dos n-1 valores anteriores ao elemento com o valor do próprio elemento, dividido por n.\n",
    "\n",
    "Considere a lista de 10 valores a seguir: [3, 5, 8, 2, 7, 10, 3, 6, 9, 4].\n",
    "\n",
    "Escreva um programa que calcula a média móvel em janelas de 3 valores dessa lista (ou seja, n=3) e exiba na tela a lista resultante deste procedimento."
   ]
  },
  {
   "cell_type": "code",
   "execution_count": 9,
   "metadata": {},
   "outputs": [
    {
     "name": "stdout",
     "output_type": "stream",
     "text": [
      "Lista original: [3, 5, 8, 2, 7, 10, 3, 6, 9, 4]\n",
      "Média móvel com janela de 3 valores: [5.333333333333333, 5.0, 5.666666666666667, 6.333333333333333, 6.666666666666667, 6.333333333333333, 6.0, 6.333333333333333]\n"
     ]
    }
   ],
   "source": [
    "val = [3, 5, 8, 2, 7, 10, 3, 6, 9, 4] # Lista \n",
    "\n",
    "n = 3\n",
    "\n",
    "medias_moveis = [] # Lista para armazenamento das médias móveis\n",
    "\n",
    "# Calculo da média móvel\n",
    "for i in range(len(val) - n + 1):\n",
    "    jan = val[i:i + n]\n",
    "    media = sum(jan) / n\n",
    "    medias_moveis.append(media)\n",
    "\n",
    "# Exibe a lista resultante das médias móveis\n",
    "print(\"Lista original:\", val)\n",
    "print(\"Média móvel com janela de 3 valores:\", medias_moveis)\n"
   ]
  },
  {
   "cell_type": "markdown",
   "metadata": {},
   "source": [
    "QUESTÃO 10\n",
    "\n",
    "Um sistema de avaliação de saúde será desenvolvido por você para ajudar médicos do trabalho a avaliar a saúde de seus pacientes, que são funcionários de um grande banco.\n",
    "\n",
    "Os pacientes recebem uma nota de 0 a 100 para cada um dos seguintes critérios: preparo físico, alimentação saudável, saúde do coração e saúde mental.\n",
    "\n",
    "Um paciente com nota média acima de 70 é considerado saudável, enquanto pacientes com nota média abaixo de 70 são enviados para uma avaliação completa. Entretanto, caso a saúde do coração ou a saúde mental de um paciente estejam abaixo de 30, o paciente será encaminhado para uma avaliação completa independente da média.\n",
    "\n",
    "Escreva um programa que implementa a lógica acima, em que é exibido na tela o resultado da avaliação (\"paciente saudável\" ou \"paciente encaminhado para avaliação completa\") com base nas notas para os 4 critérios supracitados (você pode atribuir valores específicos para as notas para testar seu programa).\n"
   ]
  },
  {
   "cell_type": "code",
   "execution_count": 11,
   "metadata": {},
   "outputs": [
    {
     "name": "stdout",
     "output_type": "stream",
     "text": [
      "Paciente encaminhado para avaliação completa\n"
     ]
    }
   ],
   "source": [
    "notas = [] # Lista para armazenar as notas recebidas\n",
    "\n",
    "# Input do usuário para as notas de cada critério\n",
    "criterios = [\"preparo físico\", \"alimentação saudável\", \"saúde do coração\", \"saúde mental\"]\n",
    "for criterio in criterios:\n",
    "    nota = float(input(f\"Digite a nota para {criterio} (0 a 100): \"))\n",
    "    notas.append(nota)\n",
    "\n",
    "media = sum(notas) / len(notas) # Calcula a média das notas informadas pelo usuário e armazenadas na lista\n",
    "\n",
    "# Verifição da Avaliação\n",
    "saudavel = True\n",
    "if media < 70:\n",
    "    saudavel = False\n",
    "\n",
    "# Verifica se as notas de saúde do coração ou saúde mental estão abaixo de 30\n",
    "if notas[2] < 30 or notas[3] < 30:\n",
    "    saudavel = False\n",
    "\n",
    "# Condicional para exibição do resultado da avaliação\n",
    "if saudavel:\n",
    "    print(\"Paciente saudável\")\n",
    "else:\n",
    "    print(\"Paciente encaminhado para avaliação completa\")\n"
   ]
  }
 ],
 "metadata": {
  "kernelspec": {
   "display_name": "Python 3",
   "language": "python",
   "name": "python3"
  },
  "language_info": {
   "codemirror_mode": {
    "name": "ipython",
    "version": 3
   },
   "file_extension": ".py",
   "mimetype": "text/x-python",
   "name": "python",
   "nbconvert_exporter": "python",
   "pygments_lexer": "ipython3",
   "version": "3.12.1"
  }
 },
 "nbformat": 4,
 "nbformat_minor": 2
}
